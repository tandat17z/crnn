{
 "cells": [
  {
   "cell_type": "code",
   "execution_count": 4,
   "metadata": {},
   "outputs": [
    {
     "name": "stdout",
     "output_type": "stream",
     "text": [
      "d:\\HUST\\20232\\ML\\Project_OCR\\crnn\n"
     ]
    }
   ],
   "source": [
    "%cd .."
   ]
  },
  {
   "cell_type": "code",
   "execution_count": 12,
   "metadata": {},
   "outputs": [
    {
     "ename": "ModuleNotFoundError",
     "evalue": "No module named 'Levenshtein'",
     "output_type": "error",
     "traceback": [
      "\u001b[1;31m---------------------------------------------------------------------------\u001b[0m",
      "\u001b[1;31mModuleNotFoundError\u001b[0m                       Traceback (most recent call last)",
      "Cell \u001b[1;32mIn[12], line 3\u001b[0m\n\u001b[0;32m      1\u001b[0m \u001b[38;5;28;01mimport\u001b[39;00m \u001b[38;5;21;01mtorch\u001b[39;00m\n\u001b[0;32m      2\u001b[0m \u001b[38;5;28;01mfrom\u001b[39;00m \u001b[38;5;21;01mmodels\u001b[39;00m \u001b[38;5;28;01mimport\u001b[39;00m crnn\n\u001b[1;32m----> 3\u001b[0m \u001b[38;5;28;01mimport\u001b[39;00m \u001b[38;5;21;01mmodels\u001b[39;00m\u001b[38;5;21;01m.\u001b[39;00m\u001b[38;5;21;01mutils\u001b[39;00m \u001b[38;5;28;01mas\u001b[39;00m \u001b[38;5;21;01mutils\u001b[39;00m\n\u001b[0;32m      4\u001b[0m \u001b[38;5;28;01mfrom\u001b[39;00m \u001b[38;5;21;01mloader\u001b[39;00m \u001b[38;5;28;01mimport\u001b[39;00m DatasetLoader\n",
      "File \u001b[1;32md:\\HUST\\20232\\ML\\Project_OCR\\crnn\\models\\utils.py:8\u001b[0m\n\u001b[0;32m      6\u001b[0m \u001b[38;5;28;01mfrom\u001b[39;00m \u001b[38;5;21;01mtorch\u001b[39;00m\u001b[38;5;21;01m.\u001b[39;00m\u001b[38;5;21;01mautograd\u001b[39;00m \u001b[38;5;28;01mimport\u001b[39;00m Variable\n\u001b[0;32m      7\u001b[0m \u001b[38;5;28;01mimport\u001b[39;00m \u001b[38;5;21;01mcollections\u001b[39;00m\n\u001b[1;32m----> 8\u001b[0m \u001b[38;5;28;01mimport\u001b[39;00m \u001b[38;5;21;01mLevenshtein\u001b[39;00m\n\u001b[0;32m      9\u001b[0m \u001b[38;5;28;01mimport\u001b[39;00m \u001b[38;5;21;01mtensorflow\u001b[39;00m \u001b[38;5;28;01mas\u001b[39;00m \u001b[38;5;21;01mtf\u001b[39;00m\n\u001b[0;32m     10\u001b[0m \u001b[38;5;28;01mimport\u001b[39;00m \u001b[38;5;21;01mnumpy\u001b[39;00m \u001b[38;5;28;01mas\u001b[39;00m \u001b[38;5;21;01mnp\u001b[39;00m\n",
      "\u001b[1;31mModuleNotFoundError\u001b[0m: No module named 'Levenshtein'"
     ]
    }
   ],
   "source": [
    "import torch\n",
    "from models import crnn\n",
    "import models.utils as utils\n",
    "from loader import DatasetLoader"
   ]
  },
  {
   "cell_type": "markdown",
   "metadata": {},
   "source": [
    "# Config"
   ]
  },
  {
   "cell_type": "code",
   "execution_count": 10,
   "metadata": {},
   "outputs": [],
   "source": [
    "from dataclasses import dataclass\n",
    "\n",
    "@dataclass(frozen=True)\n",
    "class opt:\n",
    "    root:             str = 'data'\n",
    "    train:            str = 'train.txt'\n",
    "    val:              str = 'test.txt'\n",
    "    workers:          int = 2\n",
    "    batch_size:       int = 64\n",
    "    imgH:             int = 32\n",
    "    imgW:             int = 512\n",
    "    nh:               int = 256\n",
    "    nepoch:           int = 10\n",
    "    cuda:             str = ''\n",
    "    gpu:              int = 0 # id gpu trên máy\n",
    "    pretrained:       str = ''\n",
    "    alphabet:         str = 'char'\n",
    "    expr_dir:         str = ''\n",
    "    displayInterval:  int = 1\n",
    "    n_test_disp:      int = 10\n",
    "    valInterval:      int = 1\n",
    "    saveInterval:     int = 1\n",
    "    lr:               float = 0.001\n",
    "    manualSeed:       int = 1234\n"
   ]
  },
  {
   "cell_type": "markdown",
   "metadata": {},
   "source": [
    "# Create Model"
   ]
  },
  {
   "cell_type": "code",
   "execution_count": 4,
   "metadata": {},
   "outputs": [
    {
     "data": {
      "text/plain": [
       "tensor([[[[0.1833, 0.4026, 0.2710, 0.8095],\n",
       "          [0.3878, 0.2441, 0.7060, 0.3660],\n",
       "          [0.9555, 0.8902, 0.8256, 0.2809]],\n",
       "\n",
       "         [[0.0733, 0.2195, 0.2662, 0.6563],\n",
       "          [0.0415, 0.8241, 0.1807, 0.8855],\n",
       "          [0.0228, 0.0334, 0.1262, 0.4942]]]])"
      ]
     },
     "execution_count": 4,
     "metadata": {},
     "output_type": "execute_result"
    }
   ],
   "source": [
    "import torch\n",
    "input = torch.rand(1, 2, 3, 4)\n",
    "input"
   ]
  },
  {
   "cell_type": "code",
   "execution_count": 6,
   "metadata": {},
   "outputs": [
    {
     "data": {
      "text/plain": [
       "tensor([[[0.1833, 0.4026, 0.2710, 0.8095, 0.3878, 0.2441, 0.7060, 0.3660,\n",
       "          0.9555, 0.8902, 0.8256, 0.2809],\n",
       "         [0.0733, 0.2195, 0.2662, 0.6563, 0.0415, 0.8241, 0.1807, 0.8855,\n",
       "          0.0228, 0.0334, 0.1262, 0.4942]]])"
      ]
     },
     "execution_count": 6,
     "metadata": {},
     "output_type": "execute_result"
    }
   ],
   "source": [
    "input = input.view(1, 2, -1)\n",
    "input"
   ]
  },
  {
   "cell_type": "code",
   "execution_count": 3,
   "metadata": {},
   "outputs": [
    {
     "ename": "NameError",
     "evalue": "name 'DatasetLoader' is not defined",
     "output_type": "error",
     "traceback": [
      "\u001b[1;31m---------------------------------------------------------------------------\u001b[0m",
      "\u001b[1;31mNameError\u001b[0m                                 Traceback (most recent call last)",
      "Cell \u001b[1;32mIn[3], line 1\u001b[0m\n\u001b[1;32m----> 1\u001b[0m loader \u001b[38;5;241m=\u001b[39m DatasetLoader(opt\u001b[38;5;241m.\u001b[39mroot, opt\u001b[38;5;241m.\u001b[39mtrain, opt\u001b[38;5;241m.\u001b[39mval, opt\u001b[38;5;241m.\u001b[39mimgW, opt\u001b[38;5;241m.\u001b[39mimgH)\n\u001b[0;32m      2\u001b[0m train_loader \u001b[38;5;241m=\u001b[39m loader\u001b[38;5;241m.\u001b[39mtrain_loader(opt\u001b[38;5;241m.\u001b[39mbatch_size, num_workers\u001b[38;5;241m=\u001b[39mopt\u001b[38;5;241m.\u001b[39mworkers)\n\u001b[0;32m      3\u001b[0m test_loader \u001b[38;5;241m=\u001b[39m loader\u001b[38;5;241m.\u001b[39mtest_loader(opt\u001b[38;5;241m.\u001b[39mbatch_size, num_workers\u001b[38;5;241m=\u001b[39mopt\u001b[38;5;241m.\u001b[39mworkers)\n",
      "\u001b[1;31mNameError\u001b[0m: name 'DatasetLoader' is not defined"
     ]
    }
   ],
   "source": [
    "loader = DatasetLoader(opt.root, opt.train, opt.val, opt.imgW, opt.imgH)\n",
    "train_loader = loader.train_loader(opt.batch_size, num_workers=opt.workers)\n",
    "test_loader = loader.test_loader(opt.batch_size, num_workers=opt.workers)\n",
    "\n",
    "alphabet = open(os.path.join(opt.root, opt.alphabet)).read().rstrip()\n",
    "nclass = len(alphabet) + 1\n",
    "nc = 3\n",
    "\n",
    "print(\"alphabet: {}\".format(len(alphabet)))\n",
    "print(alphabet)\n",
    "\n",
    "converter = utils.strLabelConverter(alphabet, ignore_case=False)\n",
    "criterion = CTCLoss()"
   ]
  },
  {
   "cell_type": "code",
   "execution_count": 11,
   "metadata": {},
   "outputs": [
    {
     "ename": "NameError",
     "evalue": "name 'nc' is not defined",
     "output_type": "error",
     "traceback": [
      "\u001b[1;31m---------------------------------------------------------------------------\u001b[0m",
      "\u001b[1;31mNameError\u001b[0m                                 Traceback (most recent call last)",
      "Cell \u001b[1;32mIn[11], line 1\u001b[0m\n\u001b[1;32m----> 1\u001b[0m crnn \u001b[38;5;241m=\u001b[39m crnn\u001b[38;5;241m.\u001b[39mCRNN(opt\u001b[38;5;241m.\u001b[39mimgH, nc, nclass, opt\u001b[38;5;241m.\u001b[39mnh)\n",
      "\u001b[1;31mNameError\u001b[0m: name 'nc' is not defined"
     ]
    }
   ],
   "source": [
    "crnn = crnn.CRNN(opt.imgH, nc, nclass, opt.nh)"
   ]
  },
  {
   "cell_type": "code",
   "execution_count": 8,
   "metadata": {},
   "outputs": [
    {
     "ename": "TypeError",
     "evalue": "CRNN.__init__() missing 3 required positional arguments: 'nc', 'nclass', and 'nh'",
     "output_type": "error",
     "traceback": [
      "\u001b[1;31m---------------------------------------------------------------------------\u001b[0m",
      "\u001b[1;31mTypeError\u001b[0m                                 Traceback (most recent call last)",
      "Cell \u001b[1;32mIn[8], line 2\u001b[0m\n\u001b[0;32m      1\u001b[0m \u001b[38;5;28minput\u001b[39m \u001b[38;5;241m=\u001b[39m torch\u001b[38;5;241m.\u001b[39mrand(\u001b[38;5;241m2\u001b[39m, \u001b[38;5;241m3\u001b[39m, \u001b[38;5;241m32\u001b[39m, \u001b[38;5;241m768\u001b[39m)\n\u001b[1;32m----> 2\u001b[0m out \u001b[38;5;241m=\u001b[39m CRNN(\u001b[38;5;28minput\u001b[39m)\n\u001b[0;32m      3\u001b[0m out\u001b[38;5;241m.\u001b[39mshape\n",
      "\u001b[1;31mTypeError\u001b[0m: CRNN.__init__() missing 3 required positional arguments: 'nc', 'nclass', and 'nh'"
     ]
    }
   ],
   "source": [
    "input = torch.rand(2, 3, 32, 768)\n",
    "out = CRNN(input)\n",
    "out.shape"
   ]
  },
  {
   "cell_type": "code",
   "execution_count": null,
   "metadata": {},
   "outputs": [],
   "source": []
  }
 ],
 "metadata": {
  "kernelspec": {
   "display_name": "base",
   "language": "python",
   "name": "python3"
  },
  "language_info": {
   "codemirror_mode": {
    "name": "ipython",
    "version": 3
   },
   "file_extension": ".py",
   "mimetype": "text/x-python",
   "name": "python",
   "nbconvert_exporter": "python",
   "pygments_lexer": "ipython3",
   "version": "3.11.7"
  }
 },
 "nbformat": 4,
 "nbformat_minor": 2
}
