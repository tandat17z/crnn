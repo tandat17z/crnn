{
 "cells": [
  {
   "cell_type": "code",
   "execution_count": 1,
   "metadata": {},
   "outputs": [
    {
     "name": "stdout",
     "output_type": "stream",
     "text": [
      "d:\\HUST\\20232\\ML\\Project_OCR\\crnn\n"
     ]
    }
   ],
   "source": [
    "%cd .."
   ]
  },
  {
   "cell_type": "code",
   "execution_count": 2,
   "metadata": {},
   "outputs": [],
   "source": [
    "import os\n",
    "from PIL import Image"
   ]
  },
  {
   "cell_type": "code",
   "execution_count": 9,
   "metadata": {},
   "outputs": [
    {
     "name": "stdout",
     "output_type": "stream",
     "text": [
      "20160122_0078_25463_tg_0_0.txt\n"
     ]
    }
   ],
   "source": [
    "str_list = []\n",
    "len_list = []\n",
    "i = 0\n",
    "for filename in os.listdir('data'):\n",
    "    if 'txt' in filename and filename not in ['train.txt', 'test.txt']:\n",
    "        with open('data/' + filename, 'r') as f:\n",
    "           str_list.append(f.read())\n",
    "           if len(str_list[-1]) > 120:\n",
    "               print(filename)\n",
    "    elif filename not in ['char', 'train.txt', 'test.txt']:\n",
    "        img = Image.open('data/' + filename)\n",
    "        width, height = img.size\n",
    "        if width/height > 768/48:\n",
    "            print(filename)\n",
    "\n",
    "    "
   ]
  },
  {
   "cell_type": "code",
   "execution_count": 5,
   "metadata": {},
   "outputs": [
    {
     "data": {
      "text/plain": [
       "7282"
      ]
     },
     "execution_count": 5,
     "metadata": {},
     "output_type": "execute_result"
    }
   ],
   "source": [
    "len(str_list)"
   ]
  },
  {
   "cell_type": "code",
   "execution_count": 8,
   "metadata": {},
   "outputs": [
    {
     "name": "stdout",
     "output_type": "stream",
     "text": [
      "Sự thật vụ kiểm lâm bị \" cưa tay \". TT - Tuổi Trẻ đã đưa tin (theo nguồn tin TTXVN) về vụ Trương Bảo Hải - nhân viên kiểm lâm\n",
      "4014\n"
     ]
    },
    {
     "data": {
      "text/plain": [
       "125"
      ]
     },
     "execution_count": 8,
     "metadata": {},
     "output_type": "execute_result"
    }
   ],
   "source": [
    "max_len = 0\n",
    "for i, s in enumerate(str_list):\n",
    "    if len(s) >= 120: \n",
    "        print(s)\n",
    "        print(i)\n",
    "    max_len = max(max_len, len(s))\n",
    "max_len\n"
   ]
  },
  {
   "cell_type": "code",
   "execution_count": 8,
   "metadata": {},
   "outputs": [
    {
     "data": {
      "text/plain": [
       "1"
      ]
     },
     "execution_count": 8,
     "metadata": {},
     "output_type": "execute_result"
    }
   ],
   "source": [
    "i"
   ]
  },
  {
   "cell_type": "code",
   "execution_count": null,
   "metadata": {},
   "outputs": [],
   "source": []
  }
 ],
 "metadata": {
  "kernelspec": {
   "display_name": "Python 3",
   "language": "python",
   "name": "python3"
  },
  "language_info": {
   "codemirror_mode": {
    "name": "ipython",
    "version": 3
   },
   "file_extension": ".py",
   "mimetype": "text/x-python",
   "name": "python",
   "nbconvert_exporter": "python",
   "pygments_lexer": "ipython3",
   "version": "3.11.7"
  }
 },
 "nbformat": 4,
 "nbformat_minor": 2
}
